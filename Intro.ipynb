{
 "cells": [
  {
   "cell_type": "markdown",
   "id": "15ab13f9",
   "metadata": {},
   "source": [
    "# How the Internet Works"
   ]
  },
  {
   "cell_type": "markdown",
   "id": "8bd86250",
   "metadata": {},
   "source": [
    "# Frontend"
   ]
  },
  {
   "cell_type": "raw",
   "id": "611b7f42",
   "metadata": {},
   "source": [
    "Browser sends request to Server,\n",
    "server gives back responses\n",
    "\n",
    "we type in text in browser, our internet service provider looks up what IP address is that reltd to, then send the request there\n",
    "\n",
    "when we get back something from server, we not only get the file,  but also the content type, so the browser can parse it"
   ]
  },
  {
   "cell_type": "raw",
   "id": "f24d2efd",
   "metadata": {},
   "source": [
    "while parsing, it goes top to botoom\n",
    "when it sees a request for an asset (css/js) it pauses and sends request \n",
    "\n",
    "therefore, put all your css stuff in one file and js stuff in one file , so wouldn't have to pause again and again\n",
    "there's something c/d minifying the files, so they become smaller and can load even faster\n",
    "\n",
    "* Keep html stuff first and js in footer, gives impression to usert that pagw loading faster.\n",
    "\n",
    "*js can also make requ3ests and do stuff"
   ]
  },
  {
   "cell_type": "raw",
   "id": "91da9dfd",
   "metadata": {},
   "source": [
    "Reqest:\n",
    "\n",
    "- Host (www.....com)\n",
    "- Method (get/put/post/delete) \n",
    "#get, when you need to get something\n",
    "#post, when you create something\n",
    "#put, when you edit something\n",
    "- Path (/.../...)\n",
    "- cookiees (long string browser stores on your device)\n",
    "- user_agent(brower type)\n",
    "# Ex. backend looks at user_agent , sees they're on mobile , sends thwm to a diff website\n",
    "- content type\n",
    "\n",
    "Response:\n",
    "\n",
    "- content type \n",
    "- status (200-ok,400-error,500-server blew up)\n"
   ]
  },
  {
   "cell_type": "markdown",
   "id": "647e7ee3",
   "metadata": {},
   "source": [
    "# Backend"
   ]
  },
  {
   "cell_type": "raw",
   "id": "19e6b2cc",
   "metadata": {},
   "source": [
    "\"Web Site Server\" LAMP (linux, Apache, MySQL, PHP)\n",
    "\n",
    "Apache is the webserver, mostly used for loading files, \n",
    "it listens to port:80 and gets access to certain parts of that device\n",
    "(a port is a virtual point when connections start and end, 80 is the defalut for an IP address)\n",
    "(you don't have such software running on your comp that is why you can access your IP)\n",
    "\n",
    "then it looks at your host and path, there are folders contaiing files, according to your request it sends back those files.\n",
    "if no path, it sends the index file."
   ]
  },
  {
   "cell_type": "raw",
   "id": "65361765",
   "metadata": {},
   "source": [
    "b\"Web Application Server\"\n",
    "\n",
    "Ex. Twitter, it has a database of all the tweets\n",
    "\n",
    "there are diff things which need to be done, so the web application must discrimate and do according (basically smarter than prrv)\n",
    "\n",
    "Ex. to load twitter home page, it goes to database and gets all req. tweets, then it grabs a template from the filesystem which has the code written to what to do with those tweets. It renders the page and then sends it\n",
    "\n",
    "Ex.It can do same shit as prv one as well\n",
    "\n",
    "Ex. if js requested to delete something, it will do it and simply return status 200\n",
    "\n",
    "\n",
    "Essentially, you need to manage 3 things, \n",
    "Static assets, rendering, api (talking to js)"
   ]
  },
  {
   "cell_type": "raw",
   "id": "547a419b",
   "metadata": {},
   "source": [
    "\"Scaling\"\n",
    "\n",
    "the machine getting too many users, you add msany machines with same thing\n",
    "then your user is first durested to a load balancer\n",
    "the load balancer keeps track of how busy the these machines are and sends users according to the program written\n",
    "\n",
    "so have to figure you deployment program, i.e. sending code to all these machines in one command"
   ]
  },
  {
   "cell_type": "code",
   "execution_count": null,
   "id": "a4d11fc1",
   "metadata": {},
   "outputs": [],
   "source": []
  },
  {
   "cell_type": "code",
   "execution_count": null,
   "id": "8e45406b",
   "metadata": {},
   "outputs": [],
   "source": []
  },
  {
   "cell_type": "markdown",
   "id": "ecfce99e",
   "metadata": {},
   "source": [
    "# Git & GitHub"
   ]
  },
  {
   "cell_type": "raw",
   "id": "e4470949",
   "metadata": {},
   "source": [
    "Version control Sys,\n",
    "keeps track of the different versions of the same code we made as time passed"
   ]
  }
 ],
 "metadata": {
  "kernelspec": {
   "display_name": "Python 3 (ipykernel)",
   "language": "python",
   "name": "python3"
  },
  "language_info": {
   "codemirror_mode": {
    "name": "ipython",
    "version": 3
   },
   "file_extension": ".py",
   "mimetype": "text/x-python",
   "name": "python",
   "nbconvert_exporter": "python",
   "pygments_lexer": "ipython3",
   "version": "3.9.12"
  }
 },
 "nbformat": 4,
 "nbformat_minor": 5
}
